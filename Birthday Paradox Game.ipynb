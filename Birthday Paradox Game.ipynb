{
 "cells": [
  {
   "cell_type": "markdown",
   "metadata": {},
   "source": [
    "# Birthday Paradox\n",
    "\n",
    "Apparently in a random set of 23 people there is a high chance that at least two people will share the same birthday, this program checks how accurate that statement is"
   ]
  },
  {
   "cell_type": "code",
   "execution_count": 1,
   "metadata": {},
   "outputs": [],
   "source": [
    "import random \n",
    "\n",
    "def generate_date():\n",
    "    month = random.randrange(1,13,1)\n",
    "    year = random.randrange(1900,2019,1)\n",
    "    \n",
    "    if month == 2 and year % 400 == 0:\n",
    "        day = random.randrange(1,30,1)\n",
    "    \n",
    "    elif month == 2 and year %100 != 0:\n",
    "        day = random.randrange(1,29,1)\n",
    "    \n",
    "    elif month == 2 and year % 4 == 0:\n",
    "        day = random.randrange(1,30,1)\n",
    "    \n",
    "    elif month == 2 and year % 4 != 0:\n",
    "        day = random.randrange(1,29,1)\n",
    "    \n",
    "    elif month == 1 or 3 or 5 or 7 or 8 or 10 or 12:\n",
    "        day = random.randrange(1,32,1)\n",
    "        \n",
    "    else:\n",
    "        day=random.randrange(1,31,1)\n",
    "    \n",
    "    \n",
    "    date = str(month)+\"/\"+str(day)+\"/\"+str(year)\n",
    "    \n",
    "    return date\n",
    "    "
   ]
  },
  {
   "cell_type": "markdown",
   "metadata": {},
   "source": [
    "## 1.2 check_match(dates)"
   ]
  },
  {
   "cell_type": "code",
   "execution_count": 2,
   "metadata": {},
   "outputs": [],
   "source": [
    "def check_matches(dates):\n",
    "    count=0\n",
    "    date_list= []\n",
    "    skip_date_list = []\n",
    "    for day in dates:\n",
    "        if dates.count(day)>1 and day not in skip_date_list:\n",
    "            count = count + 1\n",
    "            date_list.append(day)\n",
    "            skip_date_list.append(day)\n",
    "            \n",
    "    \n",
    "    return (count,date_list)"
   ]
  },
  {
   "cell_type": "markdown",
   "metadata": {},
   "source": [
    "### 1.3 Play the Game"
   ]
  },
  {
   "cell_type": "code",
   "execution_count": 4,
   "metadata": {},
   "outputs": [
    {
     "name": "stdout",
     "output_type": "stream",
     "text": [
      "How many trials should would we run?:  10\n",
      "How many birthdays should we test?:  23\n",
      "60.0% of the trials had a match\n"
     ]
    }
   ],
   "source": [
    "trial_count =  int(input(\"How many trials should would we run?:  \"))\n",
    "\n",
    "birthday_count = int(input (\"How many birthdays should we test?:  \"))\n",
    "\n",
    "trial_with_match = 0\n",
    "for i in range(trial_count):\n",
    "    dates= []\n",
    "    for numbers in range(birthday_count):\n",
    "        dates.append(generate_date()[0:5])\n",
    "#     print(\"Trial \"+ str(i+1))\n",
    "#     print(check_matches(dates))\n",
    "    if check_matches(dates)[0] > 0:\n",
    "        trial_with_match= trial_with_match + 1\n",
    "\n",
    "        \n",
    "print(str((trial_with_match/trial_count)*100)+\"% of the trials had a match\")\n",
    "     "
   ]
  },
  {
   "cell_type": "code",
   "execution_count": null,
   "metadata": {},
   "outputs": [],
   "source": []
  }
 ],
 "metadata": {
  "kernelspec": {
   "display_name": "Python 3",
   "language": "python",
   "name": "python3"
  },
  "language_info": {
   "codemirror_mode": {
    "name": "ipython",
    "version": 3
   },
   "file_extension": ".py",
   "mimetype": "text/x-python",
   "name": "python",
   "nbconvert_exporter": "python",
   "pygments_lexer": "ipython3",
   "version": "3.7.0"
  }
 },
 "nbformat": 4,
 "nbformat_minor": 2
}
